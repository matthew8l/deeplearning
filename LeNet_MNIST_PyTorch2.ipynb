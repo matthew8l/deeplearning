{
  "nbformat": 4,
  "nbformat_minor": 0,
  "metadata": {
    "colab": {
      "provenance": [],
      "authorship_tag": "ABX9TyPpFJGcqPosYlTFmktPVyr0",
      "include_colab_link": true
    },
    "kernelspec": {
      "name": "python3",
      "display_name": "Python 3"
    },
    "language_info": {
      "name": "python"
    }
  },
  "cells": [
    {
      "cell_type": "markdown",
      "metadata": {
        "id": "view-in-github",
        "colab_type": "text"
      },
      "source": [
        "<a href=\"https://colab.research.google.com/github/ProfessorDong/Deep-Learning-Course-Examples/blob/master/CNN_Examples/LeNet_MNIST_PyTorch2.ipynb\" target=\"_parent\"><img src=\"https://colab.research.google.com/assets/colab-badge.svg\" alt=\"Open In Colab\"/></a>"
      ]
    },
    {
      "cell_type": "markdown",
      "source": [
        "Implement the LeNet for classification of MNIST data using PyTorch\n",
        "\n",
        "In this code, we first define the LeNet architecture as a PyTorch `nn.Module`. We then load the MNIST dataset and apply transformations, and create data loaders for the train and test sets.\n",
        "\n",
        "Next, we create an instance of the model, show the model summary using the `summary()` method from the `torchsummary` package, and define the loss function and optimizer.\n",
        "\n",
        "We then train the model for a specified number of epochs, compute the test set loss and accuracy, and display a few sample plots of the test results using Matplotlib."
      ],
      "metadata": {
        "id": "pidHOo4cQYCZ"
      }
    },
    {
      "cell_type": "code",
      "source": [
        "import torch\n",
        "import torch.nn as nn\n",
        "import torch.optim as optim\n",
        "from torch.utils.data import DataLoader\n",
        "from torchvision.datasets import MNIST\n",
        "from torchvision.transforms import ToTensor, Normalize\n",
        "import matplotlib.pyplot as plt\n",
        "from torchsummary import summary"
      ],
      "metadata": {
        "id": "rMehrUWASIsj"
      },
      "execution_count": 1,
      "outputs": []
    },
    {
      "cell_type": "code",
      "source": [
        "# Define the LeNet model architecture\n",
        "class LeNet(nn.Module):\n",
        "    def __init__(self):\n",
        "        super(LeNet, self).__init__()\n",
        "        self.conv1 = nn.Conv2d(1, 6, kernel_size=5)\n",
        "        self.avgpool1 = nn.AvgPool2d(kernel_size=2)\n",
        "        self.conv2 = nn.Conv2d(6, 16, kernel_size=5)\n",
        "        self.avgpool2 = nn.AvgPool2d(kernel_size=2)\n",
        "        self.fc1 = nn.Linear(16*4*4, 120)\n",
        "        self.fc2 = nn.Linear(120, 84)\n",
        "        self.fc3 = nn.Linear(84, 10)\n",
        "\n",
        "    def forward(self, x):\n",
        "        x = self.conv1(x)\n",
        "        x = torch.relu(x)\n",
        "        x = self.avgpool1(x)\n",
        "        x = self.conv2(x)\n",
        "        x = torch.relu(x)\n",
        "        x = self.avgpool2(x)\n",
        "        x = torch.flatten(x, 1)\n",
        "        x = self.fc1(x)\n",
        "        x = torch.relu(x)\n",
        "        x = self.fc2(x)\n",
        "        x = torch.relu(x)\n",
        "        x = self.fc3(x)\n",
        "        return x"
      ],
      "metadata": {
        "id": "GfCwCZ9YSLCH"
      },
      "execution_count": 2,
      "outputs": []
    },
    {
      "cell_type": "code",
      "source": [
        "# Load the MNIST dataset and apply transformations\n",
        "train_set = MNIST(root='./data', train=True, download=True, transform=ToTensor())\n",
        "test_set = MNIST(root='./data', train=False, download=True, transform=ToTensor())\n",
        "\n",
        "# Define the data loaders\n",
        "batch_size = 128\n",
        "train_loader = DataLoader(train_set, batch_size=batch_size, shuffle=True)\n",
        "test_loader = DataLoader(test_set, batch_size=batch_size, shuffle=False)\n",
        "\n",
        "# Create an instance of the model\n",
        "model = LeNet()\n",
        "\n",
        "# Show the model summary\n",
        "summary(model, input_size=(1, 28, 28))\n",
        "\n",
        "# Define the loss function and optimizer\n",
        "criterion = nn.CrossEntropyLoss()\n",
        "optimizer = optim.Adam(model.parameters(), lr=0.001)"
      ],
      "metadata": {
        "colab": {
          "base_uri": "https://localhost:8080/"
        },
        "id": "37-Ct1-eSN34",
        "outputId": "4c6d7e09-7bfc-4ee9-e55b-1f7e67d261f7"
      },
      "execution_count": 3,
      "outputs": [
        {
          "output_type": "stream",
          "name": "stdout",
          "text": [
            "----------------------------------------------------------------\n",
            "        Layer (type)               Output Shape         Param #\n",
            "================================================================\n",
            "            Conv2d-1            [-1, 6, 24, 24]             156\n",
            "         AvgPool2d-2            [-1, 6, 12, 12]               0\n",
            "            Conv2d-3             [-1, 16, 8, 8]           2,416\n",
            "         AvgPool2d-4             [-1, 16, 4, 4]               0\n",
            "            Linear-5                  [-1, 120]          30,840\n",
            "            Linear-6                   [-1, 84]          10,164\n",
            "            Linear-7                   [-1, 10]             850\n",
            "================================================================\n",
            "Total params: 44,426\n",
            "Trainable params: 44,426\n",
            "Non-trainable params: 0\n",
            "----------------------------------------------------------------\n",
            "Input size (MB): 0.00\n",
            "Forward/backward pass size (MB): 0.04\n",
            "Params size (MB): 0.17\n",
            "Estimated Total Size (MB): 0.22\n",
            "----------------------------------------------------------------\n"
          ]
        }
      ]
    },
    {
      "cell_type": "code",
      "source": [
        "# Train the model\n",
        "num_epochs = 10\n",
        "for epoch in range(num_epochs):\n",
        "    train_loss = 0.0\n",
        "    train_acc = 0.0\n",
        "    for batch_idx, (data, target) in enumerate(train_loader):\n",
        "        optimizer.zero_grad()\n",
        "        output = model(data)\n",
        "        loss = criterion(output, target)\n",
        "        loss.backward()\n",
        "        optimizer.step()\n",
        "        train_loss += loss.item() * data.size(0)\n",
        "        _, preds = torch.max(output, 1)\n",
        "        train_acc += torch.sum(preds == target.data)\n",
        "    train_loss = train_loss / len(train_loader.dataset)\n",
        "    train_acc = train_acc / len(train_loader.dataset)\n",
        "    print('Epoch: {} \\tTraining Loss: {:.6f} \\tTraining Accuracy: {:.6f}'.format(epoch+1, train_loss, train_acc))"
      ],
      "metadata": {
        "colab": {
          "base_uri": "https://localhost:8080/"
        },
        "id": "8J2uAbjrSRxI",
        "outputId": "8eb33875-50c9-4ca3-d408-89a0062bc99f"
      },
      "execution_count": 4,
      "outputs": [
        {
          "output_type": "stream",
          "name": "stdout",
          "text": [
            "Epoch: 1 \tTraining Loss: 0.522288 \tTraining Accuracy: 0.840517\n",
            "Epoch: 2 \tTraining Loss: 0.160096 \tTraining Accuracy: 0.951017\n",
            "Epoch: 3 \tTraining Loss: 0.104171 \tTraining Accuracy: 0.968217\n",
            "Epoch: 4 \tTraining Loss: 0.082031 \tTraining Accuracy: 0.974667\n",
            "Epoch: 5 \tTraining Loss: 0.068679 \tTraining Accuracy: 0.978900\n",
            "Epoch: 6 \tTraining Loss: 0.058113 \tTraining Accuracy: 0.981733\n",
            "Epoch: 7 \tTraining Loss: 0.050514 \tTraining Accuracy: 0.984283\n",
            "Epoch: 8 \tTraining Loss: 0.046041 \tTraining Accuracy: 0.985350\n",
            "Epoch: 9 \tTraining Loss: 0.039821 \tTraining Accuracy: 0.987467\n",
            "Epoch: 10 \tTraining Loss: 0.035588 \tTraining Accuracy: 0.988450\n"
          ]
        }
      ]
    },
    {
      "cell_type": "code",
      "source": [
        "# Evaluate the model on the test set\n",
        "test_loss = 0.0\n",
        "test_acc = 0.0\n",
        "with torch.no_grad():\n",
        "    for data, target in test_loader:\n",
        "        output = model(data)\n",
        "        loss = criterion(output, target)\n",
        "        test_loss += loss.item() * data.size(0)\n",
        "        _, preds = torch.max(output, 1)\n",
        "        test_acc += torch.sum(preds == target.data)"
      ],
      "metadata": {
        "id": "jTScUASUSUWi"
      },
      "execution_count": 5,
      "outputs": []
    },
    {
      "cell_type": "code",
      "source": [
        "#Compute the test set loss and accuracy\n",
        "test_loss = test_loss / len(test_loader.dataset)\n",
        "test_acc = test_acc / len(test_loader.dataset)\n",
        "print('Test Loss: {:.6f} \\tTest Accuracy: {:.6f}'.format(test_loss, test_acc))"
      ],
      "metadata": {
        "colab": {
          "base_uri": "https://localhost:8080/"
        },
        "id": "ve0ElLnnRxFF",
        "outputId": "969159b4-9369-4a93-cfa8-1339503434ee"
      },
      "execution_count": 6,
      "outputs": [
        {
          "output_type": "stream",
          "name": "stdout",
          "text": [
            "Test Loss: 0.042298 \tTest Accuracy: 0.985900\n"
          ]
        }
      ]
    },
    {
      "cell_type": "code",
      "source": [
        "#Display a few sample plots of the test results\n",
        "\n",
        "fig = plt.figure(figsize=(8, 8))\n",
        "for i in range(16):\n",
        "  plt.subplot(4, 4, i+1)\n",
        "  plt.imshow(test_set[i][0].squeeze(), cmap='gray')\n",
        "  plt.title('Label: {} \\n Prediction: {}'.format(test_set[i][1], torch.argmax(model(test_set[i][0].unsqueeze(0)))))\n",
        "  plt.axis('off')\n",
        "\n",
        "plt.show()"
      ],
      "metadata": {
        "colab": {
          "base_uri": "https://localhost:8080/",
          "height": 497
        },
        "id": "0CvqSkeCQSoC",
        "outputId": "c55026f0-4c6e-47dc-d843-ec231e5dda3b"
      },
      "execution_count": 10,
      "outputs": [
        {
          "output_type": "display_data",
          "data": {
            "text/plain": [
              "<Figure size 576x576 with 16 Axes>"
            ],
            "image/png": "[encoded data removed]"
          },
          "metadata": {
            "needs_background": "light"
          }
        }
      ]
    }
  ]
}
