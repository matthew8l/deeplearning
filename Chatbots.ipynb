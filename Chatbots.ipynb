{
 "cells": [
  {
   "cell_type": "markdown",
   "id": "f02179cf-8c61-4c2d-a9a5-ec92bb864d68",
   "metadata": {},
   "source": [
    "Building Chatbots with LLM APIs"
   ]
  },
  {
   "cell_type": "code",
   "execution_count": 1,
   "id": "0336350e-31c9-49b1-85c3-1b53a665b95f",
   "metadata": {},
   "outputs": [
    {
     "name": "stdout",
     "output_type": "stream",
     "text": [
      "Python 3.12.2\n"
     ]
    }
   ],
   "source": [
    "!python --version"
   ]
  },
  {
   "cell_type": "code",
   "execution_count": 2,
   "id": "da21d7dc-978b-4b4e-8409-3ba97d76104d",
   "metadata": {},
   "outputs": [
    {
     "name": "stdout",
     "output_type": "stream",
     "text": [
      "Requirement already satisfied: openai in c:\\programdata\\anaconda3\\envs\\openaiapi2024\\lib\\site-packages (1.24.0)\n",
      "Requirement already satisfied: anyio<5,>=3.5.0 in c:\\programdata\\anaconda3\\envs\\openaiapi2024\\lib\\site-packages (from openai) (4.2.0)\n",
      "Requirement already satisfied: distro<2,>=1.7.0 in c:\\programdata\\anaconda3\\envs\\openaiapi2024\\lib\\site-packages (from openai) (1.9.0)\n",
      "Requirement already satisfied: httpx<1,>=0.23.0 in c:\\programdata\\anaconda3\\envs\\openaiapi2024\\lib\\site-packages (from openai) (0.27.0)\n",
      "Requirement already satisfied: pydantic<3,>=1.9.0 in c:\\programdata\\anaconda3\\envs\\openaiapi2024\\lib\\site-packages (from openai) (2.6.4)\n",
      "Requirement already satisfied: sniffio in c:\\programdata\\anaconda3\\envs\\openaiapi2024\\lib\\site-packages (from openai) (1.3.0)\n",
      "Requirement already satisfied: tqdm>4 in c:\\programdata\\anaconda3\\envs\\openaiapi2024\\lib\\site-packages (from openai) (4.66.2)\n",
      "Requirement already satisfied: typing-extensions<5,>=4.7 in c:\\programdata\\anaconda3\\envs\\openaiapi2024\\lib\\site-packages (from openai) (4.9.0)\n",
      "Requirement already satisfied: idna>=2.8 in c:\\programdata\\anaconda3\\envs\\openaiapi2024\\lib\\site-packages (from anyio<5,>=3.5.0->openai) (3.4)\n",
      "Requirement already satisfied: certifi in c:\\programdata\\anaconda3\\envs\\openaiapi2024\\lib\\site-packages (from httpx<1,>=0.23.0->openai) (2024.2.2)\n",
      "Requirement already satisfied: httpcore==1.* in c:\\programdata\\anaconda3\\envs\\openaiapi2024\\lib\\site-packages (from httpx<1,>=0.23.0->openai) (1.0.5)\n",
      "Requirement already satisfied: h11<0.15,>=0.13 in c:\\programdata\\anaconda3\\envs\\openaiapi2024\\lib\\site-packages (from httpcore==1.*->httpx<1,>=0.23.0->openai) (0.14.0)\n",
      "Requirement already satisfied: annotated-types>=0.4.0 in c:\\programdata\\anaconda3\\envs\\openaiapi2024\\lib\\site-packages (from pydantic<3,>=1.9.0->openai) (0.6.0)\n",
      "Requirement already satisfied: pydantic-core==2.16.3 in c:\\programdata\\anaconda3\\envs\\openaiapi2024\\lib\\site-packages (from pydantic<3,>=1.9.0->openai) (2.16.3)\n",
      "Requirement already satisfied: colorama in c:\\programdata\\anaconda3\\envs\\openaiapi2024\\lib\\site-packages (from tqdm>4->openai) (0.4.6)\n",
      "Note: you may need to restart the kernel to use updated packages.\n"
     ]
    }
   ],
   "source": [
    "pip install --upgrade openai"
   ]
  },
  {
   "cell_type": "code",
   "execution_count": 3,
   "id": "170dc260-c3c3-4932-84da-57d67826a37b",
   "metadata": {},
   "outputs": [],
   "source": [
    "from openai import OpenAI\n",
    "\n",
    "client = OpenAI(api_key=\"Replace with your key from Open AI.\")\n",
    "# defaults to getting the key using os.environ.get(\"OPENAI_API_KEY\")\n",
    "# if you saved the key under a different environment variable name, you can do something like:\n",
    "# client = OpenAI(\n",
    "#   api_key=os.environ.get(\"CUSTOM_ENV_NAME\"),\n",
    "# )"
   ]
  },
  {
   "cell_type": "code",
   "execution_count": 4,
   "id": "92d739b7-6a32-433a-8f7d-a224c631ee7b",
   "metadata": {},
   "outputs": [
    {
     "name": "stdout",
     "output_type": "stream",
     "text": [
      "In the realm of code, where logic plays king,\n",
      "Lies a concept where functions, themselves they bring.\n",
      "Recursion, a dance of elegant grace,\n",
      "Where a function calls itself, in a tight embrace.\n",
      "\n",
      "Imagine a staircase stretching to the skies,\n",
      "Each step a repeat, where the secret lies.\n",
      "To reach the top, the next step's the same,\n",
      "A recursive call, by another name.\n",
      "\n",
      "```python\n",
      "def ascend(step):\n",
      "    if step == 0:\n",
      "        return \"Ground floor, here you stand.\"\n",
      "    return ascend(step - 1)\n",
      "```\n",
      "\n",
      "Each call a step, a simple decree,\n",
      "\"Take one less step, then come back to me.\"\n",
      "Until the ground greets your weary feet,\n",
      "Where step zero offers a retreat.\n",
      "\n",
      "This self-calling method might twist your mind,\n",
      "A loop of calls, ties of its own kind.\n",
      "But within this loop, a base case finds space,\n",
      "It halts the recursion, ending the chase.\n",
      "\n",
      "So think of recursion, a mirror in hall,\n",
      "Reflecting itself, in echoes that call.\n",
      "A powerful tool, in programmer's hand,\n",
      "Crafting solutions, simple yet grand.\n"
     ]
    }
   ],
   "source": [
    "completion = client.chat.completions.create(\n",
    "    model=\"gpt-4-turbo\",\n",
    "    messages=[\n",
    "        {\"role\": \"system\", \"content\": \"You are a poetic assistant, skilled in explaining complex programming concepts with creative flair.\"},\n",
    "        {\"role\": \"user\", \"content\": \"Compose a poem that explains the concept of recursion in programming.\"}\n",
    "    ],\n",
    "    max_tokens=512,\n",
    "    temperature=0\n",
    ")\n",
    "\n",
    "print(completion.choices[0].message.content)"
   ]
  },
  {
   "cell_type": "code",
   "execution_count": 5,
   "id": "ebb8fd3d-f95b-4a86-b6c7-17c3b4f5a3a4",
   "metadata": {},
   "outputs": [
    {
     "name": "stdout",
     "output_type": "stream",
     "text": [
      "ChatCompletionMessage(content='In the realm of code, where logic plays king,\\nLies a concept where functions, themselves they bring.\\nRecursion, a dance of elegant grace,\\nWhere a function calls itself, in a tight embrace.\\n\\nImagine a staircase stretching to the skies,\\nEach step a repeat, where the secret lies.\\nTo reach the top, the next step\\'s the same,\\nA recursive call, by another name.\\n\\n```python\\ndef ascend(step):\\n    if step == 0:\\n        return \"Ground floor, here you stand.\"\\n    return ascend(step - 1)\\n```\\n\\nEach call a step, a simple decree,\\n\"Take one less step, then come back to me.\"\\nUntil the ground greets your weary feet,\\nWhere step zero offers a retreat.\\n\\nThis self-calling method might twist your mind,\\nA loop of calls, ties of its own kind.\\nBut within this loop, a base case finds space,\\nIt halts the recursion, ending the chase.\\n\\nSo think of recursion, a mirror in hall,\\nReflecting itself, in echoes that call.\\nA powerful tool, in programmer\\'s hand,\\nCrafting solutions, simple yet grand.', role='assistant', function_call=None, tool_calls=None)\n"
     ]
    }
   ],
   "source": [
    "print(completion.choices[0].message)"
   ]
  },
  {
   "cell_type": "code",
   "execution_count": 6,
   "id": "a10b88ef-37d9-4cad-8b8c-11ab158900a4",
   "metadata": {},
   "outputs": [
    {
     "name": "stdout",
     "output_type": "stream",
     "text": [
      "Woof woof! I'm Bummer, the puppy! How can I help you today?\n"
     ]
    }
   ],
   "source": [
    "def call_openai():\n",
    "    client = OpenAI()\n",
    "\n",
    "    chat_completion = client.chat.completions.create(\n",
    "        messages=[\n",
    "            {\"role\": \"user\", \"content\": \"You are a puppy called Bummer.\"},\n",
    "            {\"role\": \"assistant\", \"content\": \"Woof!\"},\n",
    "            {\"role\": \"user\", \"content\": \"What's your name?\"},\n",
    "        ],\n",
    "        model = \"gpt-4-turbo\",\n",
    "    )\n",
    "\n",
    "    return chat_completion.choices[0].message.content\n",
    "\n",
    "print(call_openai())"
   ]
  },
  {
   "cell_type": "code",
   "execution_count": 1,
   "id": "6f230bc4-82ef-473c-8c9b-a7712ab84803",
   "metadata": {},
   "outputs": [
    {
     "name": "stdout",
     "output_type": "stream",
     "text": [
      "Requirement already satisfied: anthropic in c:\\programdata\\anaconda3\\envs\\openaiapi2024\\lib\\site-packages (0.25.6)\n",
      "Collecting anthropic\n",
      "  Downloading anthropic-0.25.7-py3-none-any.whl.metadata (18 kB)\n",
      "Requirement already satisfied: anyio<5,>=3.5.0 in c:\\programdata\\anaconda3\\envs\\openaiapi2024\\lib\\site-packages (from anthropic) (4.2.0)\n",
      "Requirement already satisfied: distro<2,>=1.7.0 in c:\\programdata\\anaconda3\\envs\\openaiapi2024\\lib\\site-packages (from anthropic) (1.9.0)\n",
      "Requirement already satisfied: httpx<1,>=0.23.0 in c:\\programdata\\anaconda3\\envs\\openaiapi2024\\lib\\site-packages (from anthropic) (0.27.0)\n",
      "Requirement already satisfied: pydantic<3,>=1.9.0 in c:\\programdata\\anaconda3\\envs\\openaiapi2024\\lib\\site-packages (from anthropic) (2.6.4)\n",
      "Requirement already satisfied: sniffio in c:\\programdata\\anaconda3\\envs\\openaiapi2024\\lib\\site-packages (from anthropic) (1.3.0)\n",
      "Requirement already satisfied: tokenizers>=0.13.0 in c:\\programdata\\anaconda3\\envs\\openaiapi2024\\lib\\site-packages (from anthropic) (0.19.1)\n",
      "Requirement already satisfied: typing-extensions<5,>=4.7 in c:\\programdata\\anaconda3\\envs\\openaiapi2024\\lib\\site-packages (from anthropic) (4.9.0)\n",
      "Requirement already satisfied: idna>=2.8 in c:\\programdata\\anaconda3\\envs\\openaiapi2024\\lib\\site-packages (from anyio<5,>=3.5.0->anthropic) (3.4)\n",
      "Requirement already satisfied: certifi in c:\\programdata\\anaconda3\\envs\\openaiapi2024\\lib\\site-packages (from httpx<1,>=0.23.0->anthropic) (2024.2.2)\n",
      "Requirement already satisfied: httpcore==1.* in c:\\programdata\\anaconda3\\envs\\openaiapi2024\\lib\\site-packages (from httpx<1,>=0.23.0->anthropic) (1.0.5)\n",
      "Requirement already satisfied: h11<0.15,>=0.13 in c:\\programdata\\anaconda3\\envs\\openaiapi2024\\lib\\site-packages (from httpcore==1.*->httpx<1,>=0.23.0->anthropic) (0.14.0)\n",
      "Requirement already satisfied: annotated-types>=0.4.0 in c:\\programdata\\anaconda3\\envs\\openaiapi2024\\lib\\site-packages (from pydantic<3,>=1.9.0->anthropic) (0.6.0)\n",
      "Requirement already satisfied: pydantic-core==2.16.3 in c:\\programdata\\anaconda3\\envs\\openaiapi2024\\lib\\site-packages (from pydantic<3,>=1.9.0->anthropic) (2.16.3)\n",
      "Requirement already satisfied: huggingface-hub<1.0,>=0.16.4 in c:\\programdata\\anaconda3\\envs\\openaiapi2024\\lib\\site-packages (from tokenizers>=0.13.0->anthropic) (0.22.2)\n",
      "Requirement already satisfied: filelock in c:\\programdata\\anaconda3\\envs\\openaiapi2024\\lib\\site-packages (from huggingface-hub<1.0,>=0.16.4->tokenizers>=0.13.0->anthropic) (3.13.4)\n",
      "Requirement already satisfied: fsspec>=2023.5.0 in c:\\programdata\\anaconda3\\envs\\openaiapi2024\\lib\\site-packages (from huggingface-hub<1.0,>=0.16.4->tokenizers>=0.13.0->anthropic) (2024.3.1)\n",
      "Requirement already satisfied: packaging>=20.9 in c:\\programdata\\anaconda3\\envs\\openaiapi2024\\lib\\site-packages (from huggingface-hub<1.0,>=0.16.4->tokenizers>=0.13.0->anthropic) (23.2)\n",
      "Requirement already satisfied: pyyaml>=5.1 in c:\\programdata\\anaconda3\\envs\\openaiapi2024\\lib\\site-packages (from huggingface-hub<1.0,>=0.16.4->tokenizers>=0.13.0->anthropic) (6.0.1)\n",
      "Requirement already satisfied: requests in c:\\programdata\\anaconda3\\envs\\openaiapi2024\\lib\\site-packages (from huggingface-hub<1.0,>=0.16.4->tokenizers>=0.13.0->anthropic) (2.31.0)\n",
      "Requirement already satisfied: tqdm>=4.42.1 in c:\\programdata\\anaconda3\\envs\\openaiapi2024\\lib\\site-packages (from huggingface-hub<1.0,>=0.16.4->tokenizers>=0.13.0->anthropic) (4.66.2)\n",
      "Requirement already satisfied: colorama in c:\\programdata\\anaconda3\\envs\\openaiapi2024\\lib\\site-packages (from tqdm>=4.42.1->huggingface-hub<1.0,>=0.16.4->tokenizers>=0.13.0->anthropic) (0.4.6)\n",
      "Requirement already satisfied: charset-normalizer<4,>=2 in c:\\programdata\\anaconda3\\envs\\openaiapi2024\\lib\\site-packages (from requests->huggingface-hub<1.0,>=0.16.4->tokenizers>=0.13.0->anthropic) (2.0.4)\n",
      "Requirement already satisfied: urllib3<3,>=1.21.1 in c:\\programdata\\anaconda3\\envs\\openaiapi2024\\lib\\site-packages (from requests->huggingface-hub<1.0,>=0.16.4->tokenizers>=0.13.0->anthropic) (2.1.0)\n",
      "Downloading anthropic-0.25.7-py3-none-any.whl (870 kB)\n",
      "   ---------------------------------------- 0.0/870.8 kB ? eta -:--:--\n",
      "   ---------------------------------------- 10.2/870.8 kB ? eta -:--:--\n",
      "   ---- ----------------------------------- 92.2/870.8 kB 1.3 MB/s eta 0:00:01\n",
      "   -------------------------- ------------- 583.7/870.8 kB 5.2 MB/s eta 0:00:01\n",
      "   ---------------------------------------  870.4/870.8 kB 6.1 MB/s eta 0:00:01\n",
      "   ---------------------------------------  870.4/870.8 kB 6.1 MB/s eta 0:00:01\n",
      "   ---------------------------------------- 870.8/870.8 kB 3.9 MB/s eta 0:00:00\n",
      "Installing collected packages: anthropic\n",
      "  Attempting uninstall: anthropic\n",
      "    Found existing installation: anthropic 0.25.6\n",
      "    Uninstalling anthropic-0.25.6:\n",
      "      Successfully uninstalled anthropic-0.25.6\n",
      "Successfully installed anthropic-0.25.7\n"
     ]
    }
   ],
   "source": [
    "!pip install --upgrade anthropic"
   ]
  },
  {
   "cell_type": "code",
   "execution_count": 2,
   "id": "0666cae1-6f45-4c8f-9b3f-116b2776230f",
   "metadata": {},
   "outputs": [
    {
     "name": "stdout",
     "output_type": "stream",
     "text": [
      " Here is a short poem about Baylor University:\n",
      "\n",
      "Ode to Baylor Green and Gold \n",
      "\n",
      "Along the Brazos River, \n",
      "Stands a school of great renown.\n",
      "Baylor University, a place of excellence profound.\n",
      "With history and tradition, faith and learning bound.\n",
      "Green and gold, their colors proudly shine,\n",
      "As students grow in body, mind and soul so fine.\n",
      "Leaders are molded, championships are won, \n",
      "Memories are made under the Waco sun.\n",
      "Baylor Bears forever, green and gold!\n",
      "Your light will shine for young and old.\n"
     ]
    }
   ],
   "source": [
    "import anthropic\n",
    "\n",
    "client = anthropic.Client(api_key=\"Replace with your key from Anthropic\")\n",
    "\n",
    "prompt = f\"\"\"\n",
    "Human: Write a short poem about the excellence of Baylor University.\n",
    "Assistant:\"\"\"\n",
    "\n",
    "response = client.completions.create(\n",
    "    prompt=prompt,\n",
    "    model=\"claude-v1\",\n",
    "    max_tokens_to_sample=300\n",
    ")\n",
    "\n",
    "print(response.completion)"
   ]
  },
  {
   "cell_type": "code",
   "execution_count": null,
   "id": "1e3bea18-48b9-4a71-990d-d152885c2403",
   "metadata": {},
   "outputs": [],
   "source": []
  }
 ],
 "metadata": {
  "kernelspec": {
   "display_name": "Python 3 (ipykernel)",
   "language": "python",
   "name": "python3"
  },
  "language_info": {
   "codemirror_mode": {
    "name": "ipython",
    "version": 3
   },
   "file_extension": ".py",
   "mimetype": "text/x-python",
   "name": "python",
   "nbconvert_exporter": "python",
   "pygments_lexer": "ipython3",
   "version": "3.12.2"
  }
 },
 "nbformat": 4,
 "nbformat_minor": 5
}
